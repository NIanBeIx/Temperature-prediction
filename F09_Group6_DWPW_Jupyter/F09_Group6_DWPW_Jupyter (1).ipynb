{
 "cells": [
  {
   "cell_type": "markdown",
   "metadata": {},
   "source": [
    "# Report for 2D Project Physical World and Digital World\n",
    "\n",
    "Cohort: # 9\n",
    "\n",
    "Team No.: # 6\n",
    "\n",
    "Members:\n",
    "* Tan Jun Yong (1003057)\n",
    "* Lee Hang Wee (1002727)\n",
    "* Lee Jia Yi (1003137)\n",
    "* Qing Renjie (1002969)\n",
    "* Wei Letong (1002965)"
   ]
  },
  {
   "cell_type": "markdown",
   "metadata": {},
   "source": [
    "# Introduction\n",
    "\n",
    "The conventional thermometer takes approximately more than 100s to be able to reach quasi-thermal equilibrium with the water bath. In order to reduce the time taken, a linear regression model that takes into account the heat capacity and thermal conductance is used.\n",
    "\n",
    "Governing Equation, Tsensor = A(exp(-time/tau)) + Twater, where tau is the time constant and is determined through dividing the heat capacity by thermal conductance, and A is (Troom - Twater); Troom is the room temperature, assuming it is the initial temperature the temperature senses.\n",
    "\n",
    "Therefore, the purpose of this experiment is to test out the hypothesis and regression model on whether it is possible to accurately measure the temperature of an object faster than a conventional thermometer. \n",
    "\n"
   ]
  },
  {
   "cell_type": "markdown",
   "metadata": {},
   "source": [
    "# Description of Data from Experiment\n",
    "In order to come up with a regression model, an experiment with a temperature of 44.3 degrees celsius has been set up to collect the datasets using the Raspberry Pi to ascertain the relationship with the governing equation.\n",
    "\n"
   ]
  },
  {
   "cell_type": "markdown",
   "metadata": {},
   "source": [
    "## Data Collection\n",
    "\n",
    "Using the thermometer sensor that was connected to the Raspberry Pi, we read the values detected by the temperature sensor within a time a period 120 seconds and over an average time interval of 1.5 seconds. \n",
    "\n",
    "These values are also written into a text file, with each line indicating the time elapsed (from its first reading of the room temperature) and the temperature corresponding to the time values.\n",
    "\n",
    "The text file is then imported to an Excel file where the first column represents the time values and the second column representing the corresponding temperature values."
   ]
  },
  {
   "cell_type": "code",
   "execution_count": null,
   "metadata": {
    "collapsed": true
   },
   "outputs": [],
   "source": [
    "#Code to activate temperature sensor \n",
    "\n",
    "import os\n",
    "import glob\n",
    "import time\n",
    "import numpy as np\n",
    "from sklearn import linear_model\n",
    "import math\n",
    "\n",
    "os.system('modprobe w1-gpio')\n",
    "os.system('modprobe w1-therm')\n",
    "\n",
    "base_dir = '/sys/bus/w1/devices/'\n",
    "device_folder = glob.glob(base_dir + '28*')[0]\n",
    "device_file = device_folder + '/w1_slave'\n",
    "\n",
    "def read_temp_raw():\n",
    "    f = open(device_file, 'r')\n",
    "    lines = f.readlines()\n",
    "    f.close()\n",
    "    return lines\n",
    "\n",
    "def read_temp():\n",
    "    lines = read_temp_raw()\n",
    "    while lines[0].strip()[-3:] != 'YES':\n",
    "        time.sleep(0.2)\n",
    "        lines = read_temp_raw()\n",
    "    equals_pos = lines[1].find('t=')\n",
    "    if equals_pos != -1:\n",
    "        temp_string = lines[1][equals_pos+2:]\n",
    "        temp_c = float(temp_string) / 1000.0\n",
    "        return temp_c\n",
    "    \n",
    "    \n",
    "# code to write temperature values into a list of nested lists\n",
    "start_time=time.time()\n",
    "elapsed_time=time.time() - start_time\n",
    "\n",
    "cries=[]\n",
    "\n",
    "while elapsed_time <= 25:\n",
    "    reading_i= read_temp()\n",
    "    subcries=[elapsed_time,reading_i]\n",
    "    cries.append(subcries)\n",
    "    time.sleep(0.5)\n",
    "    elapsed_time = time.time() - start_time\n",
    "    "
   ]
  },
  {
   "cell_type": "markdown",
   "metadata": {},
   "source": [
    "## Data Preparation\n",
    "\n",
    "As mentioned above, the exponential equation that shows how temperature of the sensor relates to time is: Tsensor = A(exp(-time/tau)) + Twater, where tau: time constant and is determined through dividing the heat capacity by thermal conductance, and A: (Troom - Twater).\n",
    "\n",
    "To predict the temperature of the water using this equation, we differentiate Tsensor with respect to time and we obtain the governing equation that will apply to any temperature level of the water: \n",
    "\n",
    "Tsensor/dtime = (-A/tau)(exp(-time/tau)) = (-(Troom - Twater)/tau)(exp(-time/tau))\n",
    "\n",
    "To perform linear regression to our values, we modify the differentiated equation above to give us:\n",
    "\n",
    "ln(dTsensor/dtime) = (-1/tau)t + ln((Twater-Troom)/tau), where the we perfomr linear regression of ln(dTsensor/dtime) against t\n",
    "\n",
    "The equation ln(dTsensor/dtime) = (-1/tau)t + ln((Twater-Troom)/tau) allows us to find Twater by assessing the y-intercept (ln((Twater-Troom)/tau)) and gradient (-1/tau) of the linear model plotted:\n",
    "\n",
    "Twater=(exp(intercept)/(-(-1/tau)))+Troom\n",
    "\n",
    "Hence, we have to calculate the values of ln(dTsensor/dtime) ≈ ln((Tsensor2 - Tsensor1)/(dt2 - dt1)) \n"
   ]
  },
  {
   "cell_type": "markdown",
   "metadata": {},
   "source": [
    "## Data Format\n",
    "\n",
    "After exporting the data from the excel file as an array, we calculated the values of ln((Tsensor2 - Tsensor1)/(dt2 - dt1)) and added them to the end of each row of the array. \n",
    "Then, we delted the values of Ts to plot a graph of ln((Tsensor2 - Tsensor1)/(dt2 - dt1)) against time.\n",
    "\n",
    "To increase the accuracy of our model, we only plotted linear regression for the first 15% of the values in the array, as only these values provided a linear model which we are able to find the y-intercept and gradient to calculate and Twater (before the temperature sensor detects it).\n",
    " "
   ]
  },
  {
   "cell_type": "markdown",
   "metadata": {},
   "source": [
    "# Linear Regression to find model.coef and model.intercept\n",
    "\n",
    "After calculating the values for ln((Tsensor2 - Tsensor1)/(dt1 - dt2)) and deleting the Ts values from the array, our new array (labelled as 'data') now contains an array of the first 15 percent of the time values on the first column and the corresponging values of ln((Tsensor2 - Tsensor1)/(dt2 - dt1)) on the second column.\n",
    "\n",
    "Using linear regression, we plot a best fit line with the value in the 'data' array and we calculated the value of Twater by manipulating the y-intercept (model.intercept) and gradient (model.coef) of our best fit line.\n",
    "\n",
    "y-intercept: ln((Twater-Troom)/tau) \n",
    "Gradient -1/tau\n",
    "\n",
    "Therefore, Twater=(exp(intercept)/(-(-1/tau)))+Troom"
   ]
  },
  {
   "cell_type": "markdown",
   "metadata": {},
   "source": [
    "# Testing Using Instructor's Data"
   ]
  },
  {
   "cell_type": "code",
   "execution_count": 76,
   "metadata": {},
   "outputs": [
    {
     "name": "stderr",
     "output_type": "stream",
     "text": [
      "C:\\Users\\user\\Anaconda3\\lib\\site-packages\\ipykernel_launcher.py:21: RuntimeWarning: divide by zero encountered in log\n",
      "C:\\Users\\user\\Anaconda3\\lib\\site-packages\\ipykernel_launcher.py:21: RuntimeWarning: invalid value encountered in log\n"
     ]
    }
   ],
   "source": [
    "import pandas as pd\n",
    "import numpy as np\n",
    "num_test = 3\n",
    "filename = 'temp_' \n",
    "filekey = ['513','96','514'] #has to be string\n",
    "dataframe = {} \n",
    "\n",
    "dataframe = {} # this is to store the data for different temperature, the keys are in filekey\n",
    "for idx in range(num_test):\n",
    "    dataframe[filekey[idx]] = pd.read_excel(filename+filekey[idx]+'.xlsx')\n",
    "\n",
    "\n",
    "def preprocess(df):\n",
    "    cries=df.values\n",
    "    cries=cries.tolist()\n",
    "    i=0\n",
    "    while i < len(cries):\n",
    "        if float(cries[i][0])==0:\n",
    "            cries[i].append(None)\n",
    "        else:\n",
    "            yvalue=np.log((float(cries[i][1])-float(cries[i-1][1]))/(float(cries[i][0])-float(cries[i-1][0])))\n",
    "            cries[i].append(yvalue)\n",
    "        i=i+1\n",
    "\n",
    "    old_data=np.array(cries) #after adding the values of ln((Tsensor2 - Tsensor1)/(dt2 - dt1)) \n",
    "\n",
    "    big_data=old_data[1:,[0,2]] #deleting values of Ts to plot a graph of ln((Tsensor2 - Tsensor1)/(dt2 - dt1)) against time\n",
    "\n",
    "#with our values for different water temperature, \n",
    "#we observed that plotting linear regression of the first 15 percent of the values improves the accuracy to calculate Twater\n",
    "\n",
    "    test_size=int(round(len(big_data)*0.15,0)) \n",
    "    data=big_data[:test_size,:]\n",
    "    roomt=old_data[0:1,1:2][0][0] #room temperature value\n",
    "    together=[data,roomt]\n",
    "    return together\n",
    "\n",
    "data_test = {}\n",
    "for key in filekey:\n",
    "    data_test[key]=preprocess(dataframe[key])\n",
    "    \n",
    "\n",
    "\n",
    "\n",
    "\n"
   ]
  },
  {
   "cell_type": "code",
   "execution_count": 78,
   "metadata": {},
   "outputs": [
    {
     "name": "stdout",
     "output_type": "stream",
     "text": [
      "{'513': 49.415123252573437, '96': 45.804017490143252, '514': 49.415123252573437}\n"
     ]
    }
   ],
   "source": [
    "import numpy as np\n",
    "from sklearn import model_selection\n",
    "from sklearn import linear_model\n",
    "from sklearn import datasets\n",
    "from sklearn.metrics import mean_squared_error, r2_score\n",
    "import matplotlib.pyplot as plt\n",
    "import math\n",
    "\n",
    "def linear_regression (data):\n",
    "    \n",
    "    x_data = data[0][:,0]\n",
    "    y_data = data[0][:,1]\n",
    "\n",
    "    x_train=x_data\n",
    "    y_train=y_data\n",
    "    \n",
    "    model=linear_model.LinearRegression()\n",
    "    x_train=x_train.reshape(-2,1)\n",
    "    y_train=y_train.reshape (-1,1)\n",
    "\n",
    "    model.fit(x_train,y_train)   \n",
    "    \n",
    "    intercept=model.intercept_[0] \n",
    "    coef=model.coef_[0][0]\n",
    "    \n",
    "    predictedtemperature=(math.e**(intercept)/(-coef))+data[1]\n",
    "    return predictedtemperature\n",
    "\n",
    "\n",
    "predicted = {}\n",
    "for key in filekey:\n",
    "    predicted[key]=linear_regression(data_test[key])\n",
    "    \n",
    "print (predicted)\n"
   ]
  },
  {
   "cell_type": "code",
   "execution_count": null,
   "metadata": {
    "collapsed": true
   },
   "outputs": [],
   "source": [
    "# checking accuracy\n",
    "\n",
    "# first instructor will load the actual temp from a pickle object\n",
    "import pickle\n",
    "error_d = {}\n",
    "accuracy_percent_d = {}\n",
    "\n",
    "for test in range(num_test):\n",
    "    filename = 'data_'+filekey[test]+'.pickle'\n",
    "    with open(filename,'rb') as f:\n",
    "        final_temp, worst_temp = pickle.load(f)\n",
    "\n",
    "    # then calculate the error\n",
    "    error_final = abs(final_temp-predicted[filekey[test]])\n",
    "    accuracy_final_percent = 100-error_final/final_temp*100\n",
    "    error_worst = abs(worst_temp-predicted[filekey[test]])\n",
    "    accuracy_worst_percent = 100-error_worst/worst_temp*100\n",
    "    \n",
    "    error_d[filekey[test]] = (error_final, error_worst)\n",
    "    accuracy_percent_d[filekey[test]] = (accuracy_final_percent, accuracy_worst_percent)\n",
    "\n",
    "    # displaying the error\n",
    "    print('===================================')\n",
    "    print('Testing: {}'.format(filekey[test]))\n",
    "    print('Predicted Temp: {:.2f}'.format(predicted[filekey[test]]))\n",
    "    print('Final Sensor Temp: {:.2f}, Alcohol Temp:{:.2f}'.format(final_temp, worst_temp))\n",
    "    print('Error w.r.t Final Sensor Temp: {:.2f} deg, {:.2f}% accuracy'.format(error_final, accuracy_final_percent))\n",
    "    print('Error w.r.t Alcohol Temp: {:.2f} deg, {:.2f}% accuracy'.format(error_worst, accuracy_worst_percent))\n",
    "    \n",
    "avg_final = sum([ final for final, worst in accuracy_percent_d.values()])/len(error_d.values())\n",
    "avg_worst = sum([ worst for final, worst in accuracy_percent_d.values()])/len(error_d.values())\n",
    "print('==============================')\n",
    "print('Average accuracy for final sensor temp: {:.2f}'.format(avg_final))\n",
    "print('AVerage accuracy for alcohol temp: {:.2f}'.format(avg_worst))\n"
   ]
  }
 ],
 "metadata": {
  "kernelspec": {
   "display_name": "Python 3",
   "language": "python",
   "name": "python3"
  },
  "language_info": {
   "codemirror_mode": {
    "name": "ipython",
    "version": 3
   },
   "file_extension": ".py",
   "mimetype": "text/x-python",
   "name": "python",
   "nbconvert_exporter": "python",
   "pygments_lexer": "ipython3",
   "version": "3.6.3"
  }
 },
 "nbformat": 4,
 "nbformat_minor": 2
}
